{
 "cells": [
  {
   "cell_type": "code",
   "execution_count": 17,
   "metadata": {},
   "outputs": [],
   "source": [
    "from pyspark.sql import SparkSession\n",
    "from pyspark.sql import functions as F"
   ]
  },
  {
   "cell_type": "code",
   "execution_count": 18,
   "metadata": {},
   "outputs": [],
   "source": [
    "spark = SparkSession.builder.appName(\"best_book\").getOrCreate()"
   ]
  },
  {
   "cell_type": "code",
   "execution_count": 19,
   "metadata": {},
   "outputs": [],
   "source": [
    "dataPath = \"hdfs://localhost:9000/user/nhom7/book/data/\"\n",
    "ratingsFilePath = dataPath + \"BX-Book-Ratings.csv\"\n",
    "rating_df = spark.read.options(inferSchema=\"true\", header=\"true\", delimiter=';').csv(ratingsFilePath)"
   ]
  },
  {
   "cell_type": "code",
   "execution_count": 20,
   "metadata": {},
   "outputs": [
    {
     "name": "stdout",
     "output_type": "stream",
     "text": [
      "+-------+----------+\n",
      "|User-ID|Read-Count|\n",
      "+-------+----------+\n",
      "|  51071|        11|\n",
      "|   5452|        11|\n",
      "|  77790|        11|\n",
      "|  42430|        11|\n",
      "|  64983|        11|\n",
      "|  63574|        11|\n",
      "|  26518|        11|\n",
      "|  58878|        11|\n",
      "|  28953|        11|\n",
      "|  26823|        11|\n",
      "+-------+----------+\n",
      "only showing top 10 rows\n",
      "\n"
     ]
    }
   ],
   "source": [
    "user_read_count = rating_df.groupBy('User-ID') \\\n",
    "                            .agg(F.count(rating_df['Book-Rating']).alias('Read-Count')) \\\n",
    "                    \n",
    "user_read_count = user_read_count.filter(user_read_count['Read-Count'] > 10) \\\n",
    "                                    .orderBy('Read-Count', ascending = True)\n",
    "\n",
    "user_read_count.show(10)"
   ]
  },
  {
   "cell_type": "code",
   "execution_count": 21,
   "metadata": {},
   "outputs": [],
   "source": [
    "improved_rating = rating_df.join(user_read_count, 'User-ID').select('ISBN', 'Book-Rating')"
   ]
  },
  {
   "cell_type": "code",
   "execution_count": 23,
   "metadata": {},
   "outputs": [
    {
     "name": "stdout",
     "output_type": "stream",
     "text": [
      "+----------+----------+-----------------+\n",
      "|      ISBN|Read-Count|          Average|\n",
      "+----------+----------+-----------------+\n",
      "|0439064864|       148| 6.54054054054054|\n",
      "|0439136350|       158|6.531645569620253|\n",
      "|0439139597|       152|              6.5|\n",
      "|0590353403|       131|6.282442748091603|\n",
      "|0877017883|        62|6.129032258064516|\n",
      "|0618002227|        54|5.851851851851852|\n",
      "|0156528207|        59|5.491525423728813|\n",
      "|043935806X|       267|5.479400749063671|\n",
      "|0552131067|        64|         5.109375|\n",
      "|0439136369|       178|4.949438202247191|\n",
      "|0812550706|       135|4.911111111111111|\n",
      "|0553296981|       117|4.880341880341881|\n",
      "|0439139600|       159|4.861635220125786|\n",
      "|1400032717|        81|4.802469135802469|\n",
      "|0618002219|        62|4.790322580645161|\n",
      "|0452279178|        52|             4.75|\n",
      "|0064471047|        63|4.746031746031746|\n",
      "|0684853515|        64|          4.71875|\n",
      "|038548951X|        53| 4.69811320754717|\n",
      "|0552137030|        79|4.670886075949367|\n",
      "+----------+----------+-----------------+\n",
      "only showing top 20 rows\n",
      "\n"
     ]
    }
   ],
   "source": [
    "book_read_count = improved_rating.groupBy('ISBN') \\\n",
    "                            .agg(F.count(improved_rating['Book-Rating']).alias('Read-Count'), \n",
    "                                F.avg(improved_rating['Book-Rating']).alias('Average')) \\\n",
    "\n",
    "best_book = book_read_count.filter(book_read_count['Read-Count'] > 50) \\\n",
    "                            .orderBy('Average', ascending = False)\n",
    "\n",
    "best_book.show(20)"
   ]
  },
  {
   "cell_type": "code",
   "execution_count": null,
   "metadata": {},
   "outputs": [],
   "source": []
  }
 ],
 "metadata": {
  "kernelspec": {
   "display_name": "tf_rec-5MMI-Cvb",
   "language": "python",
   "name": "python3"
  },
  "language_info": {
   "codemirror_mode": {
    "name": "ipython",
    "version": 3
   },
   "file_extension": ".py",
   "mimetype": "text/x-python",
   "name": "python",
   "nbconvert_exporter": "python",
   "pygments_lexer": "ipython3",
   "version": "3.10.5 (tags/v3.10.5:f377153, Jun  6 2022, 16:14:13) [MSC v.1929 64 bit (AMD64)]"
  },
  "orig_nbformat": 4,
  "vscode": {
   "interpreter": {
    "hash": "77e106df7f450c66566a7610a3718f206c95a104637392e72bdeaab378155cd7"
   }
  }
 },
 "nbformat": 4,
 "nbformat_minor": 2
}
